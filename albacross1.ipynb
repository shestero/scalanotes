{
  "metadata" : {
    "config" : {
      "dependencies" : {
        "scala" : [
          "org.typelevel:cats-core_2.13:2.9.0"
        ]
      },
      "exclusions" : [
      ],
      "repositories" : [
      ],
      "sparkConfig" : {
        
      },
      "env" : {
        
      }
    },
    "language_info" : {
      "name" : "scala"
    }
  },
  "nbformat" : 4,
  "nbformat_minor" : 0,
  "cells" : [
    {
      "cell_type" : "markdown",
      "execution_count" : 0,
      "metadata" : {
        "language" : "text"
      },
      "language" : "text",
      "source" : [
        "# Albacross Data Team Recruitment Task<br>\n",
        "\n",
        "\n",
        "Michael Shestero.  16 January, 2023\n",
        "\n",
        "\n"
      ],
      "outputs" : [
      ]
    },
    {
      "cell_type" : "code",
      "execution_count" : 1,
      "metadata" : {
        "cell.metadata.exec_info" : {
          "startTs" : 1673866945412,
          "endTs" : 1673866955641
        },
        "language" : "scala"
      },
      "language" : "scala",
      "source" : [
        "// ip4util\n",
        "\n",
        "import scala.io.Source\n",
        "import scala.util.{Random, Success, Try}\n",
        "\n",
        "  val partitioner: Long = 0x10000000\n",
        "\n",
        "  // val maxIP: Long = 0xFFFFFFFF\n",
        "  def partition(ip: Long): Long = ip / partitioner\n",
        "\n",
        "  def junctions(p: Long) = Seq(p * partitioner - 1, p * partitioner)\n",
        "\n",
        "  val ip4ToLongUnsafe: String => Long = _.trim.split(\"\\\\.\").map(_.toLong) match {\n",
        "    case r@Array(a, b, c, d) if r.map(_ & ~0xFF).forall(_ == 0) => a * 16777216 + b * 65536 + c * 256 + d\n",
        "  }\n",
        "\n",
        "  val ip4ToLong: String => Try[Long] = Success(_).map(ip4ToLongUnsafe)\n",
        "\n",
        "  def longToIp4(ip0: Long): String = {\n",
        "    import scala.math.Integral.Implicits._\n",
        "    val (ip1, b1) = ip0 /% 256L\n",
        "    val (ip2, b2) = ip1 /% 256L\n",
        "    val (ip3, b3) = ip2 /% 256L\n",
        "    val (ip4, b4) = ip3 /% 256L\n",
        "    assert(ip4 == 0)\n",
        "    s\"$b4.$b3.$b2.$b1\"\n",
        "  }\n",
        "\n",
        "  // random IP generation:\n",
        "\n",
        "  private val random = Random\n",
        "\n",
        "  def randomIp: String =\n",
        "    (random.nextInt(223) + 1).toString + \".\" + (1 to 3).map { _ => random.nextInt(255) }.mkString(\".\")\n",
        "\n",
        "  def randomIpLong: Long = ip4ToLong(randomIp).get\n",
        "\n",
        "  def randomRange: (Long, Long) = {\n",
        "    //val r@(r1, r2) = (randomIpLong, randomIpLong)\n",
        "    //if (r1 > r2) r.swap else r\n",
        "    val r1 = randomIpLong\n",
        "    val r2 = r1 + Math.sqrt(random.nextLong(10000000000000000L).toDouble).toLong\n",
        "    r1 -> r2.max(0xFFFFFFFF)\n",
        "  }\n",
        "\n",
        "  type RangeStream = Iterator[(Long, Long)]\n",
        "\n",
        "  object RangeStream {\n",
        "    def empty: RangeStream = Iterator.empty[(Long, Long)]\n",
        "  }\n",
        "\n",
        "  // Read source data from collection\n",
        "  val iterableSource: Iterable[(String, String)] => RangeStream =\n",
        "    _.iterator.map { case r@(sbegin, send) =>\n",
        "      {\n",
        "        for {\n",
        "          begin <- ip4ToLong(sbegin)\n",
        "          end <- ip4ToLong(send)\n",
        "        } yield begin -> end\n",
        "      }.getOrElse(throw new Exception(s\"Wrong input range: $r\"))\n",
        "    }\n",
        "\n",
        "  // Generate random source data\n",
        "  def randomSource(size: Int = 50): RangeStream = (1 to size).iterator.map(_ => randomRange)\n",
        "\n",
        "  // Print IP ranges (to debug)\n",
        "  val printRange: RangeStream => Unit = LazyList.from(1).zip(_).foreach {\n",
        "    case (num, (begin: Long, end: Long)) => assert(begin <= end); println(s\"$num\\t${longToIp4(begin)}, ${longToIp4(end)}\")\n",
        "  }\n",
        "\n"
      ],
      "outputs" : [
      ]
    },
    {
      "cell_type" : "code",
      "execution_count" : 2,
      "metadata" : {
        "cell.metadata.exec_info" : {
          "startTs" : 1673866955757,
          "endTs" : 1673866958247
        },
        "language" : "scala"
      },
      "language" : "scala",
      "source" : [
        "// iterator utils\n",
        "\n",
        "import java.util.concurrent.Phaser\n",
        "import java.util.concurrent.atomic.AtomicBoolean\n",
        "import scala.annotation.tailrec\n",
        "import scala.collection.SortedMap\n",
        "\n",
        "\n",
        "  case class OrderViolation[T](a: T, b: T) extends Exception(s\"Order assert violation: $a then $b\")\n",
        "\n",
        "  protected case class IteratorImplicit1[T](in: Iterator[T]) {\n",
        "\n",
        "    // check if iterator represent ordered sequence\n",
        "    def checkOrder[K](implicit ord: Ordering[T]): Iterator[T] = checkOrder[T](identity[T] _)\n",
        "\n",
        "    def checkOrder[K](k: T => K)(implicit ord: Ordering[K]): Iterator[T] =\n",
        "      Iterator.unfold(in.buffered) { bi =>\n",
        "        bi.nextOption().map { current =>\n",
        "          bi.headOption.foreach { next =>\n",
        "            if (ord.gt(k(current), k(next))) throw OrderViolation(current, next) // detect order violation\n",
        "          }\n",
        "          current -> bi\n",
        "        }\n",
        "      }\n",
        "\n",
        "    def groupByOrdered[K, V](k: T => K)(v: T => V /* = identity */): Iterator[(K, List[V])] =\n",
        "      Iterator.unfold(in.buffered) { bi =>\n",
        "        bi.headOption.map(k).map { key =>\n",
        "          @tailrec def group(list: List[T] = List.empty): List[T] =\n",
        "            if (bi.headOption.exists(k(_) == key)) group(bi.next() :: list) else list\n",
        "          // Note: don't use  bi.takeWhile(k(_) == key)  - it spoils one-path iterator\n",
        "\n",
        "          key -> group().map(v) -> bi\n",
        "        }\n",
        "      }\n",
        "\n",
        "  }\n",
        "\n",
        "  protected case class IteratorImplicit2[T](in: Iterator[(T, T)]) {\n",
        "    def checkIntervalsOrder(implicit ord: Ordering[T]): Iterator[(T, T)] =\n",
        "      Iterator.unfold(in.buffered) { bi =>\n",
        "        bi.nextOption().map { current =>\n",
        "          if (ord.gt(current._1, current._2)) throw OrderViolation(current._1, current._2) // detect order violation\n",
        "          bi.headOption.foreach { next =>\n",
        "            if (ord.gt(current._1, next._1)) throw OrderViolation(current, next) // detect order violation\n",
        "          }\n",
        "          current -> bi\n",
        "        }\n",
        "      }\n",
        "  }\n",
        "\n",
        "  implicit def fromIterator1[T](in: Iterator[T]) = IteratorImplicit1[T](in)\n",
        "\n",
        "  implicit def fromIterator2[T](in: Iterator[(T, T)]) = IteratorImplicit2[T](in)\n",
        "\n",
        "\n"
      ],
      "outputs" : [
      ]
    },
    {
      "cell_type" : "code",
      "execution_count" : 3,
      "metadata" : {
        "cell.metadata.exec_info" : {
          "startTs" : 1673866958273,
          "endTs" : 1673866960854
        },
        "language" : "scala"
      },
      "language" : "scala",
      "source" : [
        "  // solution1\n",
        "\n",
        "import cats.syntax.semigroup._\n",
        "\n",
        "\n",
        "  def processPreparedPoints(points: Iterable[(Long, (Int, Int))]): RangeStream =\n",
        "    processPreparedPoints(points.iterator)\n",
        "\n",
        "  def processPreparedPoints(points: Iterator[(Long, (Int, Int))]): RangeStream = {\n",
        "    val (it, zero) = points.checkOrder.foldLeft(Iterator.empty[Long] -> 0) {\n",
        "      case ((output, counter), (ip, (delta1, delta2))) =>\n",
        "        assert(counter >= 0)\n",
        "        assert(delta1 >= 0)\n",
        "        assert(delta2 <= 0)\n",
        "        val next = counter + delta1 + delta2\n",
        "        assert(next >= 0)\n",
        "        val out = counter -> next -> delta1 match {\n",
        "          case ((0, 0), 1) => Iterator(ip, ip) // standalone single point range without overlapping\n",
        "          case ((0, 0), _) => Iterator.empty // several single point at the place\n",
        "          case ((1, 1), _) => Iterator(ip - 1, ip + 1) // overlapping of single point\n",
        "          case ((0, 1), 1) | ((1, 0), 0) => Iterator.single(ip) // begin or end of a range\n",
        "          case ((0, 1), _) => Iterator(ip + 1) // overlapping with single point range(s) at the begin of a range\n",
        "          case ((1, 0), _) => Iterator(ip - 1) // overlapping with single point range(s) at the end of a range\n",
        "          case ((_, 1), _) => Iterator.single(ip + 1) // end of overlapping\n",
        "          case ((1, _), _) => Iterator.single(ip - 1) // begin of overlapping\n",
        "          case _ => Iterator.empty\n",
        "        }\n",
        "        output ++ out -> next\n",
        "    }\n",
        "    assert(zero == 0)\n",
        "    // assert(it.size % 2 == 0) // this check drains it!\n",
        "\n",
        "    it.grouped(2).flatMap {\n",
        "      case Seq(begin, end) if begin - 1 == end => Seq() \n",
        "      // this situation occurs if inside one bigger range there are side by side ranges; e.g.:\n",
        "      // [1,4],[2,2],[3,3] => [1,1],{3,2},[4,4] => [1,1],[4,4]\n",
        "      // [1,8],[3,4],[5,6] => [1,2],{5,4},[7,8] => [1,2],[7,8]\n",
        "      case Seq(begin, end) => assert(begin <= end); Seq(begin -> end)\n",
        "      case sq => throw new Exception(s\"Unpaired points in processPreparedPoints! $sq\")\n",
        "    }.checkIntervalsOrder\n",
        "  }\n",
        "\n",
        "  // solution1 - by total sorting\n",
        "  def solution1(input: RangeStream): RangeStream = {\n",
        "    val prepared = input.flatMap { case (begin, end) => Seq(begin -> (+1, 0), end -> (0, -1)) }\n",
        "      .toSeq.groupMapReduce(_._1)(_._2)(_ |+| _)\n",
        "      .toSeq.sorted\n",
        "\n",
        "    processPreparedPoints(prepared)\n",
        "  }\n",
        "\n"
      ],
      "outputs" : [
      ]
    },
    {
      "cell_type" : "code",
      "execution_count" : 4,
      "metadata" : {
        "cell.metadata.exec_info" : {
          "startTs" : 1673866960876,
          "endTs" : 1673866962453
        },
        "language" : "scala"
      },
      "language" : "scala",
      "source" : [
        "val test1 = Seq(\n",
        "    \"197.203.0.0\" -> \"197.206.9.255\",\n",
        "    \"197.204.0.0\" -> \"197.204.0.24\",\n",
        "    \"201.233.7.160\" -> \"201.233.7.168\",\n",
        "    \"201.233.7.164\" -> \"201.233.7.168\",\n",
        "    \"201.233.7.167\" -> \"201.233.7.167\",\n",
        "    \"203.133.0.0\" -> \"203.133.255.255\"\n",
        ")\n",
        "\n",
        "printRange(solution1(iterableSource(test1)))\n"
      ],
      "outputs" : [
        {
          "name" : "stdout",
          "text" : [
            "1\t197.203.0.0, 197.203.255.255\n",
            "2\t197.204.0.25, 197.206.9.255\n",
            "3\t201.233.7.160, 201.233.7.163\n",
            "4\t203.133.0.0, 203.133.255.255\n"
          ],
          "output_type" : "stream"
        }
      ]
    },
    {
      "cell_type" : "code",
      "execution_count" : 8,
      "metadata" : {
        "cell.metadata.exec_info" : {
          "startTs" : 1673866962472,
          "endTs" : 1673866963519
        },
        "language" : "scala"
      },
      "language" : "scala",
      "source" : [
        "import scala.collection.SortedMap\n",
        "\n",
        "object PointCounter {\n",
        "  type PointCounter = SortedMap[Long, Int]\n",
        "\n",
        "  def empty = SortedMap.empty[Long, Int]\n",
        "\n",
        "  protected case class PointCounterHelper(counter: PointCounter) {\n",
        "\n",
        "    def countEnds(points: Iterable[Long]): PointCounter =\n",
        "      counter ++ points.map(point => point -> (counter.getOrElse(point, 0) - 1))\n",
        "\n",
        "  }\n",
        "\n",
        "  implicit def fromPointCounter[K, V](in: PointCounter) = PointCounterHelper(in)\n",
        "\n",
        "}"
      ],
      "outputs" : [
      ]
    },
    {
      "cell_type" : "code",
      "execution_count" : 6,
      "metadata" : {
        "cell.metadata.exec_info" : {
          "startTs" : 1673866963531,
          "endTs" : 1673866964908
        },
        "language" : "scala"
      },
      "language" : "scala",
      "source" : [
        "// solution2 - using (assuming) the order of input ranges by beginning of each range\n",
        "  def solution2(input: RangeStream): RangeStream = {\n",
        "    import PointCounter._\n",
        "    val (prepared0, lastEnds) =\n",
        "      input.checkOrder(_._1).groupByOrdered(_._1)(_._2)\n",
        "        .foldLeft(Iterator.empty[(Long, Int, PointCounter)] -> PointCounter.empty) {\n",
        "          case ((it, inheritedEnds), (begin, ends)) =>\n",
        "            val allEnds = inheritedEnds.countEnds(ends)\n",
        "            val currentEnds = allEnds.rangeTo(begin)\n",
        "            val nextEnds = allEnds.rangeFrom(begin + 1)\n",
        "            it ++ Iterable.single((begin, ends.size, currentEnds)) -> nextEnds\n",
        "        }\n",
        "\n",
        "    val prepared = prepared0.flatMap {\n",
        "      case (now, beginCounter, ends) =>\n",
        "        val endsBefore = ends.rangeUntil(now).view.mapValues(0 -> _)\n",
        "        val endCounter = ends.get(now).getOrElse(0)\n",
        "        endsBefore ++ Map(now -> (beginCounter, endCounter))\n",
        "    } ++ lastEnds.view.mapValues(0 -> _)\n",
        "\n",
        "    processPreparedPoints(prepared.checkOrder)\n",
        "  }\n",
        "\n",
        "  "
      ],
      "outputs" : [
      ]
    },
    {
      "cell_type" : "code",
      "execution_count" : 10,
      "metadata" : {
        "cell.metadata.exec_info" : {
          "startTs" : 1673866964928,
          "endTs" : 1673866965524
        },
        "language" : "scala"
      },
      "language" : "scala",
      "source" : [
        "printRange(solution2(iterableSource(test1)))"
      ],
      "outputs" : [
        {
          "name" : "stdout",
          "text" : [
            "1\t197.203.0.0, 197.203.255.255\n",
            "2\t197.204.0.25, 197.206.9.255\n",
            "3\t201.233.7.160, 201.233.7.163\n",
            "4\t203.133.0.0, 203.133.255.255\n"
          ],
          "output_type" : "stream"
        }
      ]
    },
    {
      "cell_type" : "code",
      "execution_count" : 11,
      "metadata" : {
        "cell.metadata.exec_info" : {
          "startTs" : 1673866965538,
          "endTs" : 1673866966450
        },
        "language" : "scala"
      },
      "language" : "scala",
      "source" : [
        "val tests = Seq(\n",
        "    /*Seq(\n",
        "        \"197.203.0.0\" -> \"197.203.0.3\",\n",
        "        \"197.203.0.1\" -> \"197.203.0.1\",        \n",
        "        \"197.203.0.2\" -> \"197.203.0.2\"        \n",
        "    ),\n",
        "    Seq(\n",
        "        \"197.203.0.0\" -> \"197.203.0.0\",\n",
        "        \"197.203.0.1\" -> \"197.203.0.1\"\n",
        "    ),*/\n",
        "    Seq(\n",
        "        \"197.203.0.0\" -> \"197.203.0.5\",\n",
        "        \"197.203.0.1\" -> \"197.203.0.2\",\n",
        "        \"197.203.0.2\" -> \"197.203.0.3\"\n",
        "    ),\n",
        "    Seq(\n",
        "        \"197.203.0.0\" -> \"197.203.0.5\",\n",
        "        \"197.203.0.1\" -> \"197.203.0.2\",\n",
        "        \"197.203.0.3\" -> \"197.203.0.4\"\n",
        "    ),\n",
        "    Seq(\n",
        "        \"197.203.0.0\" -> \"197.203.0.1\",\n",
        "        \"197.203.0.1\" -> \"197.203.0.1\"\n",
        "    ),\n",
        "    Seq(\n",
        "        \"197.203.0.0\" -> \"197.203.0.1\",\n",
        "        \"197.203.0.0\" -> \"197.203.0.0\"\n",
        "    )        \n",
        ")\n"
      ],
      "outputs" : [
      ]
    },
    {
      "cell_type" : "code",
      "execution_count" : 12,
      "metadata" : {
        "cell.metadata.exec_info" : {
          "startTs" : 1673866966464,
          "endTs" : 1673866966915
        },
        "language" : "scala"
      },
      "language" : "scala",
      "source" : [
        "tests.foreach(iterableSource andThen solution1 andThen printRange)     "
      ],
      "outputs" : [
        {
          "name" : "stdout",
          "text" : [
            "1\t197.203.0.0, 197.203.0.0\n",
            "2\t197.203.0.4, 197.203.0.5\n",
            "1\t197.203.0.0, 197.203.0.0\n",
            "2\t197.203.0.5, 197.203.0.5\n",
            "1\t197.203.0.0, 197.203.0.0\n",
            "1\t197.203.0.1, 197.203.0.1\n"
          ],
          "output_type" : "stream"
        }
      ]
    },
    {
      "cell_type" : "code",
      "execution_count" : 13,
      "metadata" : {
        "cell.metadata.exec_info" : {
          "startTs" : 1673866966930,
          "endTs" : 1673866967420
        },
        "language" : "scala"
      },
      "language" : "scala",
      "source" : [
        "tests.foreach(iterableSource andThen solution2 andThen printRange)"
      ],
      "outputs" : [
        {
          "name" : "stdout",
          "text" : [
            "1\t197.203.0.0, 197.203.0.0\n",
            "2\t197.203.0.4, 197.203.0.5\n",
            "1\t197.203.0.0, 197.203.0.0\n",
            "2\t197.203.0.5, 197.203.0.5\n",
            "1\t197.203.0.0, 197.203.0.0\n",
            "1\t197.203.0.1, 197.203.0.1\n"
          ],
          "output_type" : "stream"
        }
      ]
    }
  ]
}